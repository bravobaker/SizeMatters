{
  "cells": [
    {
      "cell_type": "code",
      "execution_count": null,
      "metadata": {
        "id": "QUaHHxGLrZCv"
      },
      "outputs": [],
      "source": [
        "import scipy.stats as stats\n",
        "from statistics import mean\n",
        "import numpy as np\n",
        "import pandas as pd\n",
        "import numpy\n",
        "import os"
      ]
    },
    {
      "cell_type": "code",
      "execution_count": null,
      "metadata": {
        "id": "bk7dJX6qrZCy"
      },
      "outputs": [],
      "source": [
        "def calculate_u_test(group1, group2):\n",
        "    equal_test = stats.mannwhitneyu(group1, group2, alternative='two-sided') #  H0: средние перплексий равны\n",
        "    print(equal_test.pvalue)\n",
        "    if equal_test.pvalue > 0.05:\n",
        "        print(f\"There is no significant difference, p-value: {equal_test.pvalue} \\n\")\n",
        "    else:\n",
        "        test = stats.mannwhitneyu(group1, group2, alternative='greater') #  H0: среднее группы 2 равно или меньше\n",
        "        if test.pvalue < 0.05: # one-tailed\n",
        "            print(f\"Group 1 is bigger, p-value: {test.pvalue} \\n\") \n",
        "        else:\n",
        "            test = stats.mannwhitneyu(group1, group2, alternative='less')\n",
        "            print(f\"Group 2 is bigger, p-value: {test.pvalue} \\n\")"
      ]
    },
    {
      "cell_type": "code",
      "source": [
        "for filename in os.listdir():\n",
        "    if filename.endswith(\".csv\"):\n",
        "        df = pd.read_csv(filename, sep=\";\", header=None)\n",
        "        if type(df.iloc[0,0]) != numpy.int64:\n",
        "            df.iloc[:,0] = df.iloc[:,0].apply(lambda x: float(x.replace(\",\", \".\")))\n",
        "        class_3 = df[df.iloc[:,1]==3].iloc[:,0].to_list()\n",
        "        class_4 = df[df.iloc[:,1]==4].iloc[:,0].to_list()\n",
        "        print(f\"{filename}:\")\n",
        "        if \"small\" in filename:\n",
        "          print(\"Group 1 is class 4, group 2 is class 3\")\n",
        "          calculate_u_test(class_4, class_3)\n",
        "        else:\n",
        "          print(\"Group 1 is class 3, group 2 is class 4\")\n",
        "          calculate_u_test(class_3, class_4) "
      ],
      "metadata": {
        "id": "blios5qJsshi",
        "outputId": "a7fa37f2-bc72-4fb9-c8a4-c6e82d2dffaa",
        "colab": {
          "base_uri": "https://localhost:8080/"
        }
      },
      "execution_count": null,
      "outputs": [
        {
          "output_type": "stream",
          "name": "stdout",
          "text": [
            "ma&r big no anmls.csv:\n",
            "Group 1 is class 3, group 2 is class 4\n",
            "0.26573766178964064\n",
            "There is no significant difference, p-value: 0.26573766178964064 \n",
            "\n",
            "binder big no anmls.csv:\n",
            "Group 1 is class 3, group 2 is class 4\n",
            "0.05377632642346364\n",
            "There is no significant difference, p-value: 0.05377632642346364 \n",
            "\n",
            "ma&r small no anmls.csv:\n",
            "Group 1 is class 4, group 2 is class 3\n",
            "0.01621662525393186\n",
            "Group 2 is bigger, p-value: 0.00810831262696593 \n",
            "\n",
            "anmls new binder big.csv:\n",
            "Group 1 is class 3, group 2 is class 4\n",
            "0.05561770807576981\n",
            "There is no significant difference, p-value: 0.05561770807576981 \n",
            "\n",
            "anmls mcrae big.csv:\n",
            "Group 1 is class 3, group 2 is class 4\n",
            "0.008551007261317745\n",
            "Group 1 is bigger, p-value: 0.004275503630658872 \n",
            "\n",
            "mcrae big no anmls.csv:\n",
            "Group 1 is class 3, group 2 is class 4\n",
            "0.18520864211145416\n",
            "There is no significant difference, p-value: 0.18520864211145416 \n",
            "\n",
            "mcrae small no anmls.csv:\n",
            "Group 1 is class 4, group 2 is class 3\n",
            "0.0\n",
            "Group 2 is bigger, p-value: 1.0 \n",
            "\n",
            "anmls ma&r big.csv:\n",
            "Group 1 is class 3, group 2 is class 4\n",
            "0.23892162256410865\n",
            "There is no significant difference, p-value: 0.23892162256410865 \n",
            "\n",
            "binder small no anmls.csv:\n",
            "Group 1 is class 4, group 2 is class 3\n",
            "0.41188947495782735\n",
            "There is no significant difference, p-value: 0.41188947495782735 \n",
            "\n",
            "anmls new binder small.csv:\n",
            "Group 1 is class 4, group 2 is class 3\n",
            "0.5029989114752933\n",
            "There is no significant difference, p-value: 0.5029989114752933 \n",
            "\n",
            "anmls ma&r small.csv:\n",
            "Group 1 is class 4, group 2 is class 3\n",
            "0.019561425782129528\n",
            "Group 2 is bigger, p-value: 0.009780712891064764 \n",
            "\n",
            "anmls mcrae small.csv:\n",
            "Group 1 is class 4, group 2 is class 3\n",
            "0.03649394264817978\n",
            "Group 2 is bigger, p-value: 0.01824697132408989 \n",
            "\n"
          ]
        },
        {
          "output_type": "stream",
          "name": "stderr",
          "text": [
            "/usr/local/lib/python3.7/dist-packages/scipy/stats/stats.py:6415: RuntimeWarning: divide by zero encountered in double_scalars\n",
            "  z = (bigu - meanrank) / sd\n"
          ]
        }
      ]
    },
    {
      "cell_type": "markdown",
      "source": [
        "# Новый раздел"
      ],
      "metadata": {
        "id": "AdbfycIBjiZ-"
      }
    }
  ],
  "metadata": {
    "kernelspec": {
      "display_name": "Python 3",
      "language": "python",
      "name": "python3"
    },
    "language_info": {
      "codemirror_mode": {
        "name": "ipython",
        "version": 3
      },
      "file_extension": ".py",
      "mimetype": "text/x-python",
      "name": "python",
      "nbconvert_exporter": "python",
      "pygments_lexer": "ipython3",
      "version": "3.8.5"
    },
    "colab": {
      "name": "Mann Whitney Test.ipynb",
      "provenance": [],
      "collapsed_sections": []
    }
  },
  "nbformat": 4,
  "nbformat_minor": 0
}